{
 "cells": [
  {
   "cell_type": "markdown",
   "id": "f406f992-92bd-4b17-9bd3-b99c5c8abaf3",
   "metadata": {},
   "source": [
    "# Using Jupyter Notebooks\n",
    "\n",
    "\n",
    "Throughout this material, you'll need to either enter commands in cells within Jupyter notebooks, _or_ in a Linux terminal on the system you're using with CESM installed.  \n",
    "\n",
    "For the first case, when running in a Jupyter cell, you can just type in the cell, then run it by pressing **shift+return** when in the cell, or alternatively by selecting the cell then clicking the 'play' button up above.\n",
    "\n",
    "Try this on the cell below, if you like - this notebook uses a **bash** kernel, so this simply runs the Linux 'echo' command to print a message:"
   ]
  },
  {
   "cell_type": "code",
   "execution_count": null,
   "id": "582d26cf-f9b7-466b-885b-d28775cbabcb",
   "metadata": {},
   "outputs": [],
   "source": [
    "echo \"Hello CESM!\""
   ]
  },
  {
   "cell_type": "markdown",
   "id": "18495741-a16e-4e61-b37f-a9ad3b3ce435",
   "metadata": {},
   "source": [
    "## Documentation, Hints & Solutions\n",
    "\n",
    "Since the goal of these lessons is to focus on the basics, and CESM is a very complex model, we'll often provide additional information on a topic via links to online documentation. These links will be found in light blue boxes throughout the material, which you can click on for more information if you wish to go deeper - they are not necessary to progress through the lessons though. It's more for advanced use, or if you're just really curious about something. Feel free to try out the link below, if you like:"
   ]
  },
  {
   "cell_type": "markdown",
   "id": "c6540e1c-d489-401b-b227-2da4f69c50ec",
   "metadata": {},
   "source": [
    "<div class=\"alert alert-info\" style=\"text-align: center;\">\n",
    "\n",
    "[Additional documentation on CESM 2.1](https://escomp.github.io/CESM/versions/cesm2.1/html/)\n",
    "\n",
    "</div>"
   ]
  },
  {
   "cell_type": "markdown",
   "id": "387a41d7-3e1f-4272-9ba6-7940dc3c9f7f",
   "metadata": {},
   "source": [
    "Another goal is for these lessons to be _interactive_; you'll need to type in commands to complete the exercises.  In some cases, it can help to see a 'hint' as to what to do, so we'll also provide these via light orange boxes that you can click on to show more information.  For example, click on the box below to see the hidden 'hint'."
   ]
  },
  {
   "cell_type": "markdown",
   "id": "53333ffd-4626-4b4e-bd9d-085c6afe00da",
   "metadata": {},
   "source": [
    "<div class=\"alert alert-warning\">\n",
    "   \n",
    "<details>   \n",
    "   <summary>\n",
    "        <img src=\"https://freesvg.org/img/bulb_on.png\" width=\"20px\">\n",
    "       <font face=\"Times New Roman\" color='blue' size=\"4\">How do you expand a hint?</font>\n",
    "    </summary>\n",
    "    \n",
    "You just did it by clicking on this box!  Congratulations!</details>\n",
    "</div>"
   ]
  },
  {
   "cell_type": "markdown",
   "id": "3e56edff-346e-423d-af64-fb7759447240",
   "metadata": {},
   "source": [
    "Finally, if you're very stuck, after the entry box, we'll have another clickable cell with a solution; if you're really stuck, feel free to click this to get an answer to the exercise. Feel free to try the box below as an example."
   ]
  },
  {
   "cell_type": "markdown",
   "id": "504b452e-939c-4b53-b6c7-62854b2207b9",
   "metadata": {},
   "source": [
    "<div class=\"alert alert-success\">\n",
    "   \n",
    "<details>   \n",
    "   <summary>\n",
    "        <img src=\"https://freesvg.org/img/help-browser.png\" width=\"20px\">\n",
    "       <font face=\"Times New Roman\" color='blue' size=\"4\">Click here for a solution to the exercise</font>\n",
    "    </summary>\n",
    "    \n",
    "If this were a real exercise, we'd have a detailed answer with the commands needed, and why, as well as links to additional information.  But this is just an example.  Great job so far, keep going!</details>\n",
    "</div>"
   ]
  },
  {
   "cell_type": "markdown",
   "id": "20c5f8a3-2dad-4be3-9008-aef00a5a67b6",
   "metadata": {},
   "source": [
    "## Summary\n",
    "\n",
    "In this introduction, we laid out our approach to these lessons, and gave you a little bit of information on how Jupyter notebooks worked, and the style we'll take with documentation, hints, and solutions.  Please go on to the next exercises, and we hope this is a helpful, fun way of learning CESM for you!"
   ]
  }
 ],
 "metadata": {
  "kernelspec": {
   "display_name": "Bash",
   "language": "bash",
   "name": "bash"
  },
  "language_info": {
   "codemirror_mode": "shell",
   "file_extension": ".sh",
   "mimetype": "text/x-sh",
   "name": "bash"
  }
 },
 "nbformat": 4,
 "nbformat_minor": 5
}
